{
  "nbformat": 4,
  "nbformat_minor": 0,
  "metadata": {
    "colab": {
      "provenance": []
    },
    "kernelspec": {
      "name": "python3",
      "display_name": "Python 3"
    },
    "language_info": {
      "name": "python"
    }
  },
  "cells": [
    {
      "cell_type": "markdown",
      "source": [
        "Sigma (Penjumlahan)"
      ],
      "metadata": {
        "id": "Ao13rE4rQRbb"
      }
    },
    {
      "cell_type": "markdown",
      "source": [
        "$$\n",
        "\\sum_{i=1}^{100} 2^{2i+1}.\n",
        "$$"
      ],
      "metadata": {
        "id": "K9JgRRo8O5MC"
      }
    },
    {
      "cell_type": "code",
      "execution_count": 1,
      "metadata": {
        "id": "oaXc3e-3LVNR",
        "colab": {
          "base_uri": "https://localhost:8080/"
        },
        "outputId": "90ffede5-5974-4d29-ba2c-578234c7cc75"
      },
      "outputs": [
        {
          "output_type": "stream",
          "name": "stdout",
          "text": [
            "Hasilnya =  10200\n"
          ]
        }
      ],
      "source": [
        "a = 0\n",
        "\n",
        "for i in range(1,101):\n",
        "    a = a + (2^2*i+1)\n",
        "\n",
        "print(\"Hasilnya = \", a)"
      ]
    },
    {
      "cell_type": "markdown",
      "source": [
        "Pi (Perkalian)"
      ],
      "metadata": {
        "id": "ltaIA_FZQVZY"
      }
    },
    {
      "cell_type": "markdown",
      "source": [
        "$$\n",
        "\\prod_{j=1}^{50} 2j+2.\n",
        "$$"
      ],
      "metadata": {
        "id": "wrQq8fU2PWyY"
      }
    },
    {
      "cell_type": "code",
      "source": [
        "hasil = 1\n",
        "for j in range(1, 51+1):\n",
        "    hasil = hasil * abs(2*j+2)\n",
        "\n",
        "print(\"Hasil = \", hasil)"
      ],
      "metadata": {
        "id": "K4OB2TW9PWYx",
        "colab": {
          "base_uri": "https://localhost:8080/"
        },
        "outputId": "afaadc43-27df-4572-ee99-ab5786fc8e70"
      },
      "execution_count": 4,
      "outputs": [
        {
          "output_type": "stream",
          "name": "stdout",
          "text": [
            "Hasil =  181626063822123522020699080076184218412029452484926630583264631274340352000000000000\n"
          ]
        }
      ]
    },
    {
      "cell_type": "markdown",
      "source": [
        "Faktorial"
      ],
      "metadata": {
        "id": "FeJ78alMQ2Ey"
      }
    },
    {
      "cell_type": "markdown",
      "source": [
        "$$\n",
        "10!\n",
        "$$"
      ],
      "metadata": {
        "id": "rEgK4ed0Qyx2"
      }
    },
    {
      "cell_type": "code",
      "source": [
        "def faktorial(n):\n",
        "    a=1\n",
        "    for i in range(1,n+1):\n",
        "        a = a*i\n",
        "    return(a)\n",
        "faktorial(10)"
      ],
      "metadata": {
        "id": "Mh53IlGdO63e",
        "colab": {
          "base_uri": "https://localhost:8080/"
        },
        "outputId": "1a81ac39-d733-4d77-f626-e030293fa251"
      },
      "execution_count": 3,
      "outputs": [
        {
          "output_type": "execute_result",
          "data": {
            "text/plain": [
              "10200"
            ]
          },
          "metadata": {},
          "execution_count": 3
        }
      ]
    },
    {
      "cell_type": "markdown",
      "source": [
        "Absolute"
      ],
      "metadata": {
        "id": "smklrzDSRMrq"
      }
    },
    {
      "cell_type": "markdown",
      "source": [
        "$$\n",
        "f(x) = |2x-1|,\n",
        "f(-100)=\n",
        "$$"
      ],
      "metadata": {
        "id": "9QqR9YkrQ-US"
      }
    },
    {
      "cell_type": "code",
      "source": [
        "def f(x):\n",
        "    return abs(2*x - 1)\n",
        "\n",
        "hasil = f(-100)\n",
        "print(\"Hasil = \", hasil)\n"
      ],
      "metadata": {
        "id": "8ZWZXhrZRMNZ",
        "colab": {
          "base_uri": "https://localhost:8080/"
        },
        "outputId": "8a6e3d6d-2f4a-4391-b8da-608035d93e70"
      },
      "execution_count": 5,
      "outputs": [
        {
          "output_type": "stream",
          "name": "stdout",
          "text": [
            "Hasil =  201\n"
          ]
        }
      ]
    },
    {
      "cell_type": "markdown",
      "source": [
        "Fungsi Sepotong-sepotong (Piecewise Function)"
      ],
      "metadata": {
        "id": "M3guYUWsScnY"
      }
    },
    {
      "cell_type": "markdown",
      "source": [
        "$$\n",
        "f(x)=\n",
        "\\begin{cases}\n",
        "x^{2} & \\text{x < 0}, \\\\\n",
        "x+2 & \\text{x >= 0}.\n",
        "\\end{cases}\n",
        "f(3)=\n",
        "$$"
      ],
      "metadata": {
        "id": "sd7LZl_JRlDE"
      }
    },
    {
      "cell_type": "code",
      "source": [
        "def f(x):\n",
        "    if x < 0:\n",
        "        return x**2\n",
        "    else:\n",
        "        return x + 2\n",
        "\n",
        "hasil = f(3)\n",
        "print(\"Hasil = \", hasil)"
      ],
      "metadata": {
        "id": "dS7XjBWlRv8W",
        "colab": {
          "base_uri": "https://localhost:8080/"
        },
        "outputId": "bcd87252-8d43-4ec0-f1bb-aab1e034b096"
      },
      "execution_count": 6,
      "outputs": [
        {
          "output_type": "stream",
          "name": "stdout",
          "text": [
            "Hasil =  5\n"
          ]
        }
      ]
    },
    {
      "cell_type": "markdown",
      "source": [
        "Matrix"
      ],
      "metadata": {
        "id": "VvfDI7hNVUoN"
      }
    },
    {
      "cell_type": "markdown",
      "source": [
        "\n",
        "$$\n",
        "\\begin{bmatrix}\n",
        "2 & 3 \\\\\n",
        "1 & 5\n",
        "\\end{bmatrix}\n",
        "*\n",
        "\\begin{bmatrix}\n",
        "7 & 0.5 \\\\\n",
        "4 & 0\n",
        "\\end{bmatrix}\n",
        "$$"
      ],
      "metadata": {
        "id": "JLh40-aAVrSI"
      }
    },
    {
      "cell_type": "code",
      "source": [
        "#import library numpy\n",
        "matrix1 = np.array([[2, 3],\n",
        "                    [1, 5]])\n",
        "\n",
        "matrix2 = np.array([[7, 0.5],\n",
        "                    [4, 0]])\n",
        "\n",
        "hasil = np.dot(matrix1, matrix2)\n",
        "\n",
        "print(hasil)"
      ],
      "metadata": {
        "id": "L9rh8MqEVr3n",
        "colab": {
          "base_uri": "https://localhost:8080/",
          "height": 211
        },
        "outputId": "1230b438-f399-4b95-c2af-6891209f1600"
      },
      "execution_count": 7,
      "outputs": [
        {
          "output_type": "error",
          "ename": "NameError",
          "evalue": "name 'np' is not defined",
          "traceback": [
            "\u001b[0;31m---------------------------------------------------------------------------\u001b[0m",
            "\u001b[0;31mNameError\u001b[0m                                 Traceback (most recent call last)",
            "\u001b[0;32m<ipython-input-7-1158f2988b3e>\u001b[0m in \u001b[0;36m<cell line: 2>\u001b[0;34m()\u001b[0m\n\u001b[1;32m      1\u001b[0m \u001b[0;31m# Matriks pertama\u001b[0m\u001b[0;34m\u001b[0m\u001b[0;34m\u001b[0m\u001b[0m\n\u001b[0;32m----> 2\u001b[0;31m matrix1 = np.array([[2, 3],\n\u001b[0m\u001b[1;32m      3\u001b[0m                     [1, 5]])\n\u001b[1;32m      4\u001b[0m \u001b[0;34m\u001b[0m\u001b[0m\n\u001b[1;32m      5\u001b[0m \u001b[0;31m# Matriks kedua\u001b[0m\u001b[0;34m\u001b[0m\u001b[0;34m\u001b[0m\u001b[0m\n",
            "\u001b[0;31mNameError\u001b[0m: name 'np' is not defined"
          ]
        }
      ]
    }
  ]
}